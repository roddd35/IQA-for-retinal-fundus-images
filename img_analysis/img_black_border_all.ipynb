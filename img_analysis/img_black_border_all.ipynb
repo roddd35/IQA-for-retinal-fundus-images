{
 "cells": [
  {
   "cell_type": "markdown",
   "metadata": {},
   "source": [
    "##  **Add superior and inferior black borders for Retinal Images IQA Project**\n",
    "### **Instituto de Matemática e Estatística da Universidade de São Paulo (IME-USP)**\n",
    "### Rodrigo de Castro Michelassi\n",
    "### 26.02.24"
   ]
  },
  {
   "cell_type": "code",
   "execution_count": 1,
   "metadata": {},
   "outputs": [],
   "source": [
    "import os\n",
    "from PIL import Image\n",
    "import matplotlib.pyplot as plt"
   ]
  },
  {
   "cell_type": "code",
   "execution_count": 2,
   "metadata": {},
   "outputs": [],
   "source": [
    "path = '/Users/rodrigomichelassi/Documents/USP/IQA-Motorola/data/brset/physionet.org/files/brazilian-ophthalmological/1.0.0/fundus_photos'"
   ]
  },
  {
   "cell_type": "markdown",
   "metadata": {},
   "source": [
    "### Apply the black border on the image in image_path"
   ]
  },
  {
   "cell_type": "code",
   "execution_count": 3,
   "metadata": {},
   "outputs": [],
   "source": [
    "def make_image_square_with_black_borders_and_save(image_path):\n",
    "    original_image = Image.open(image_path)\n",
    "    width, height = original_image.size\n",
    "    \n",
    "    new_size = max(width, height)\n",
    "    bordered_image = Image.new(\"RGB\", (new_size, new_size), \"black\")\n",
    "    \n",
    "    left = (new_size - width) // 2\n",
    "    top = (new_size - height) // 2\n",
    "    bordered_image.paste(original_image, (left, top))\n",
    "    \n",
    "    bordered_image.save(image_path)\n",
    "    \n",
    "    original_image.close()\n",
    "    bordered_image.close()"
   ]
  },
  {
   "cell_type": "markdown",
   "metadata": {},
   "source": [
    "### Iterate through all images rolling the algorithm"
   ]
  },
  {
   "cell_type": "code",
   "execution_count": 4,
   "metadata": {},
   "outputs": [],
   "source": [
    "extensions = ('.jpg', '.jpeg', '.png')\n",
    "\n",
    "for filename in os.listdir(path):\n",
    "    if filename.endswith(extensions):\n",
    "        image_path = os.path.join(path, filename)\n",
    "        make_image_square_with_black_borders_and_save(image_path)"
   ]
  },
  {
   "cell_type": "markdown",
   "metadata": {},
   "source": [
    "### **Note:** Some images have a white line on the right side\n",
    "> If that is a problem, a solution may be, after applying this algorithm, just cut one pixel from top, bottom and both sides"
   ]
  }
 ],
 "metadata": {
  "kernelspec": {
   "display_name": "Python 3",
   "language": "python",
   "name": "python3"
  },
  "language_info": {
   "codemirror_mode": {
    "name": "ipython",
    "version": 3
   },
   "file_extension": ".py",
   "mimetype": "text/x-python",
   "name": "python",
   "nbconvert_exporter": "python",
   "pygments_lexer": "ipython3",
   "version": "3.12.2"
  }
 },
 "nbformat": 4,
 "nbformat_minor": 2
}
