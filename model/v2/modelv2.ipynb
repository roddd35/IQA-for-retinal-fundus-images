{
 "cells": [
  {
   "cell_type": "markdown",
   "metadata": {},
   "source": [
    "##  **First atempt on a ML Model for IQA on BRSet**\n",
    "### **Instituto de Matemática e Estatística da Universidade de São Paulo (IME-USP)**\n",
    "### Rodrigo de Castro Michelassi\n",
    "### 06.03.24"
   ]
  },
  {
   "cell_type": "markdown",
   "metadata": {},
   "source": [
    "### Importing packages and libraries"
   ]
  },
  {
   "cell_type": "code",
   "execution_count": 1,
   "metadata": {},
   "outputs": [
    {
     "name": "stdout",
     "output_type": "stream",
     "text": [
      "Num GPUs Available:  0\n"
     ]
    }
   ],
   "source": [
    "import itertools\n",
    "import numpy as np\n",
    "import pandas as pd\n",
    "import tensorflow as tf\n",
    "from matplotlib import pyplot as plt\n",
    "from sklearn.metrics import classification_report, confusion_matrix\n",
    "from tensorflow.keras.models import Sequential\n",
    "from tensorflow.keras.layers import Flatten, Dense\n",
    "from tensorflow.keras.applications.vgg16 import VGG16\n",
    "from tensorflow.keras.preprocessing.image import ImageDataGenerator\n",
    "from tensorflow.keras.metrics import AUC, Recall, Precision, BinaryAccuracy\n",
    "\n",
    "print(\"Num GPUs Available: \", len(tf.config.list_physical_devices('GPU')))"
   ]
  },
  {
   "cell_type": "markdown",
   "metadata": {},
   "source": [
    "### Importing images data generators\n",
    "\n",
    "> Now we are trying to get a generator specific for training, testing and validating"
   ]
  },
  {
   "cell_type": "code",
   "execution_count": 9,
   "metadata": {},
   "outputs": [],
   "source": [
    "# FUNCTION: IMPORT IMAGES FROM DATASET\n",
    "# class_mode='categorical' for multiple classes\n",
    "def import_images(train_dir, test_dir, val_dir):\n",
    "    datagen_train = ImageDataGenerator(\n",
    "        rescale=1./255,\n",
    "        rotation_range=30,\n",
    "        # width_shift_range=0.2,\n",
    "        # height_shift_range=0.2,\n",
    "        horizontal_flip=True,\n",
    "        vertical_flip=True,\n",
    "        fill_mode='nearest'\n",
    "    )\n",
    "\n",
    "    datagen_val_test = ImageDataGenerator(\n",
    "        rescale=1./255,\n",
    "    )\n",
    "\n",
    "    train_generator = datagen_train.flow_from_directory(\n",
    "        train_dir,\n",
    "        batch_size=128,\n",
    "        target_size=(224, 224),\n",
    "        class_mode='binary',\n",
    "        shuffle=True,\n",
    "    )\n",
    "\n",
    "    validation_generator = datagen_val_test.flow_from_directory(\n",
    "        val_dir,\n",
    "        batch_size=128,\n",
    "        target_size=(224, 224),\n",
    "        class_mode='binary',\n",
    "        shuffle=True,\n",
    "    )\n",
    "\n",
    "    test_generator = datagen_val_test.flow_from_directory(\n",
    "        test_dir,\n",
    "        batch_size=128,\n",
    "        target_size=(224, 224),\n",
    "        class_mode='binary',\n",
    "        shuffle=False,  # Normalmente não precisamos embaralhar o conjunto de teste\n",
    "    )\n",
    "\n",
    "    # plot image to check data augmentation\n",
    "    fig, ax = plt.subplots(nrows=1, ncols=5)\n",
    "\n",
    "    for i in range(5):\n",
    "        image = next(train_generator)[0][0]  \n",
    "\n",
    "        ax[i].imshow(image)\n",
    "        ax[i].axis('off')\n",
    "    plt.show()\n",
    "\n",
    "    return train_generator, test_generator, validation_generator\n"
   ]
  },
  {
   "cell_type": "markdown",
   "metadata": {},
   "source": [
    "### Get the size of each generator"
   ]
  },
  {
   "cell_type": "code",
   "execution_count": 3,
   "metadata": {},
   "outputs": [],
   "source": [
    "# FUNCTION: PRINT GENERATOR SIZE BY CLASS\n",
    "def check_generators_size(generator):\n",
    "    class_indices = generator.class_indices\n",
    "    print(\"Mapeamento de classes:\", class_indices)\n",
    "\n",
    "    index_to_class = {v: k for k, v in class_indices.items()}\n",
    "\n",
    "    class_counts = {class_name: 0 for class_name in class_indices.keys()}\n",
    "    for label in generator.labels:\n",
    "        class_name = index_to_class[label]\n",
    "        class_counts[class_name] += 1\n",
    "\n",
    "    print(\"Contagem de imagens por classe:\", class_counts)"
   ]
  },
  {
   "cell_type": "markdown",
   "metadata": {},
   "source": [
    "### Defining the model and training"
   ]
  },
  {
   "cell_type": "code",
   "execution_count": 4,
   "metadata": {},
   "outputs": [],
   "source": [
    "# FUNCTION: MODEL FOR TRAINING\n",
    "def train_model(num_classes, epochs, train_generator, validation_generator):\n",
    "    # Load VGG16 Pre Trained CNN\n",
    "    base_model = VGG16(weights='imagenet', include_top=False, input_shape=(224, 224, 3))\n",
    "\n",
    "    # Freeze the base_model layers so they can not be changed\n",
    "    for layer in base_model.layers:\n",
    "        layer.trainable = False\n",
    "\n",
    "    # Building the model and fine tuning\n",
    "    model = Sequential([\n",
    "        base_model,\n",
    "        Flatten(),\n",
    "        tf.keras.layers.Dropout(0.5),\n",
    "        Dense(256, activation='relu'),\n",
    "        Dense(num_classes, activation='softmax')\n",
    "    ])\n",
    "\n",
    "    # Define model parameters\n",
    "    # for multilabel model: use categorical_crossentropy loss\n",
    "    model.compile(\n",
    "        optimizer=tf.keras.optimizers.Adam(learning_rate=0.001), \n",
    "        loss='binary_crossentropy', \n",
    "        metrics=[\n",
    "            'accuracy', \n",
    "            AUC(name='auc', curve='PR'), \n",
    "            Precision(name='precision', class_id=1),\n",
    "            Recall(name='recall', class_id=1), \n",
    "            BinaryAccuracy(name='binary_accuracy', threshold=0.85)\n",
    "        ]\n",
    "    )\n",
    "\n",
    "    # Define checkpoint, fit the model and save weights\n",
    "    checkpoint_filepath = '/Users/rodrigomichelassi/Documents/USP/IQA-Motorola/algorithms/model/v2/weights/.'\n",
    "\n",
    "    # define the callback to save weights\n",
    "    model_callback = tf.keras.callbacks.ModelCheckpoint(\n",
    "        filepath=checkpoint_filepath, \n",
    "        save_weights_only=True, \n",
    "        monitor='val_accuracy', \n",
    "        save_best_only=True, \n",
    "        mode='max'\n",
    "    )\n",
    "\n",
    "    # define the training model\n",
    "    history = model.fit_generator(\n",
    "        train_generator, \n",
    "        epochs=epochs,\n",
    "        validation_data=validation_generator,\n",
    "        callbacks=[model_callback]\n",
    "    )\n",
    "\n",
    "    # model.load_weights(checkpoint_filepath)\n",
    "    return history, model"
   ]
  },
  {
   "cell_type": "markdown",
   "metadata": {},
   "source": [
    "### Plotting graphs Epochs $\\times$ Metric"
   ]
  },
  {
   "cell_type": "code",
   "execution_count": 5,
   "metadata": {},
   "outputs": [],
   "source": [
    "# FUNCTION: PLOT GRAPH AND SAVE \n",
    "def plot_metric_epochs(train_data, val_data, train_label, val_label, x_label, y_label, title, file_name):\n",
    "    plt.plot(train_data, color='royalblue', label=train_label)\n",
    "    plt.plot(val_data, color='cornflowerblue', label=val_label)\n",
    "    plt.title(title)\n",
    "    plt.xlabel(x_label)\n",
    "    plt.ylabel(y_label)\n",
    "    plt.legend(loc='upper right')\n",
    "    plt.savefig(\"./graphs/\" + file_name + \".png\")\n",
    "    plt.close()\n",
    "\n",
    "def call_plot(history):\n",
    "    plot_metric_epochs(history.history['loss'], history.history['val_loss'], \"Training Loss\", \"Validation Loss\", \"Epochs\", \"Categorical Cross-Entropy Loss\", \"Loss Comparison\", \"LossG1\")\n",
    "    plot_metric_epochs(history.history['accuracy'], history.history['val_accuracy'], \"Training Accuracy\", \"Validation Accuracy\", \"Epochs\", \"Accuracy\", \"Accuracy Comparison\", \"AccuracyG1\")\n",
    "    plot_metric_epochs(history.history['auc'], history.history['val_auc'], \"Training AUC\", \"Validation AUC\", \"Epochs\", \"AUC Value\", \"AUC Comparison\", \"AUC Graph 1\")\n",
    "    plot_metric_epochs(history.history['precision'], history.history['val_precision'], \"Training Precision\", \"Validation Precision\", \"Epochs\", \"Precision Value\", \"Precision Comparison\", \"PrecisionG1\")\n",
    "    plot_metric_epochs(history.history['recall'], history.history['val_recall'], \"Training Recall\", \"Validation Recall\", \"Epochs\", \"Recall Value\", \"Recall Comparison\", \"RecallG1\")"
   ]
  },
  {
   "cell_type": "markdown",
   "metadata": {},
   "source": [
    "### Plot confusion matrix and classification report"
   ]
  },
  {
   "cell_type": "code",
   "execution_count": null,
   "metadata": {},
   "outputs": [],
   "source": [
    "def plot_confusion_matrix(cm, classes,\n",
    "                          normalize=False,\n",
    "                          title='Confusion matrix',\n",
    "                          cmap=plt.cm.Blues):\n",
    "\n",
    "    if normalize:\n",
    "        cm = cm.astype('float') / cm.sum(axis=1)[:, np.newaxis]\n",
    "        print(\"Matriz de confusão normalizada\")\n",
    "    else:\n",
    "        print('Matriz de confusão, sem normalização')\n",
    "\n",
    "    plt.imshow(cm, interpolation='nearest', cmap=cmap)\n",
    "    plt.title(title)\n",
    "    plt.colorbar()\n",
    "    tick_marks = np.arange(len(classes))\n",
    "    plt.xticks(tick_marks, classes, rotation=45)\n",
    "    plt.yticks(tick_marks, classes)\n",
    "\n",
    "    fmt = '.2f' if normalize else 'd'\n",
    "    thresh = cm.max() / 2.\n",
    "    for i, j in itertools.product(range(cm.shape[0]), range(cm.shape[1])):\n",
    "        plt.text(j, i, format(cm[i, j], fmt),\n",
    "                 horizontalalignment=\"center\",\n",
    "                 color=\"white\" if cm[i, j] > thresh else \"black\")\n",
    "\n",
    "    plt.tight_layout()\n",
    "    plt.ylabel('Label verdadeiro')\n",
    "    plt.xlabel('Label previsto')\n",
    "\n",
    "\n",
    "def confusion_matrix_and_report(model, val_generator, batch_size):\n",
    "    # use num_of_test_samples // batch_size + 1\n",
    "    Y_pred = model.predict_generator(val_generator, 3254 // batch_size+1)\n",
    "    y_pred = np.argmax(Y_pred, axis=1)\n",
    "\n",
    "    cm = confusion_matrix(val_generator.classes, y_pred)\n",
    "    print('Confusion Matrix')\n",
    "    print(confusion_matrix(val_generator.classes, y_pred))\n",
    "    print('Classification Report')\n",
    "    target_names = ['Inadequate', 'Adequate']\n",
    "    print(classification_report(val_generator.classes, y_pred, target_names=target_names))\n",
    "\n",
    "    plt.figure(figsize=(10, 7))\n",
    "    plot_confusion_matrix(cm, classes=target_names, title='Confusion Matrix')\n",
    "    plt.savefig(\"./graphs/confusion_matrix.png\")\n",
    "    plt.show()"
   ]
  },
  {
   "cell_type": "markdown",
   "metadata": {},
   "source": [
    "### Test the model efficiency"
   ]
  },
  {
   "cell_type": "code",
   "execution_count": null,
   "metadata": {},
   "outputs": [],
   "source": [
    "def test_model(model, test_generator):\n",
    "    test_loss, test_acc = model.evaluate(test_generator)\n",
    "    return test_loss, test_acc"
   ]
  },
  {
   "cell_type": "markdown",
   "metadata": {},
   "source": [
    "### Main execution of the code"
   ]
  },
  {
   "cell_type": "code",
   "execution_count": 10,
   "metadata": {},
   "outputs": [
    {
     "name": "stdout",
     "output_type": "stream",
     "text": [
      "Num GPUs Available:  0\n",
      "Importando imagens: \n",
      "Found 10409 images belonging to 2 classes.\n",
      "Found 2603 images belonging to 2 classes.\n",
      "Found 3254 images belonging to 2 classes.\n"
     ]
    },
    {
     "data": {
      "image/png": "[encoded data removed]",
      "text/plain": [
       "<Figure size 640x480 with 5 Axes>"
      ]
     },
     "metadata": {},
     "output_type": "display_data"
    },
    {
     "name": "stdout",
     "output_type": "stream",
     "text": [
      "\n",
      "Dados gerador de treino:\n",
      "Mapeamento de classes: {'0': 0, '1': 1}\n",
      "Contagem de imagens por classe: {'0': 1275, '1': 9134}\n",
      "\n",
      "Dados gerador de validação:\n",
      "Mapeamento de classes: {'0': 0, '1': 1}\n",
      "Contagem de imagens por classe: {'0': 413, '1': 2841}\n",
      "\n",
      "Dados gerador de teste:\n",
      "Mapeamento de classes: {'0': 0, '1': 1}\n",
      "Contagem de imagens por classe: {'0': 299, '1': 2304}\n"
     ]
    }
   ],
   "source": [
    "def main():\n",
    "    train_path = \"/Users/rodrigomichelassi/Documents/USP/IQA-Motorola/data/brset/physionet.org/files/brazilian-ophthalmological/1.0.0/fundus_photos/train\"\n",
    "    test_path = \"/Users/rodrigomichelassi/Documents/USP/IQA-Motorola/data/brset/physionet.org/files/brazilian-ophthalmological/1.0.0/fundus_photos/test\"\n",
    "    val_path = \"/Users/rodrigomichelassi/Documents/USP/IQA-Motorola/data/brset/physionet.org/files/brazilian-ophthalmological/1.0.0/fundus_photos/validation\"\n",
    "    print(\"Num GPUs Available: \", len(tf.config.list_physical_devices('GPU')))\n",
    "\n",
    "    print(\"Importando imagens: \")\n",
    "    train_generator, val_generator, test_generator = import_images(train_path, test_path, val_path)\n",
    "\n",
    "    print(\"\\nDados gerador de treino:\")\n",
    "    check_generators_size(train_generator)\n",
    "\n",
    "    print(\"\\nDados gerador de validação:\")\n",
    "    check_generators_size(val_generator)\n",
    "\n",
    "    print(\"\\nDados gerador de teste:\")\n",
    "    check_generators_size(test_generator)\n",
    "\n",
    "    num_classes = 2\n",
    "    epochs = 25\n",
    "    history, model = train_model(num_classes, epochs, train_generator, val_generator)\n",
    "\n",
    "    call_plot(history=history)\n",
    "\n",
    "    confusion_matrix_and_report(model, val_generator, 128)\n",
    "\n",
    "    test_loss, test_acc = test_model(model=model, test_generator=test_generator)\n",
    "    print(\"Resultados do teste:\")\n",
    "    print(\"Loss: {}\".format(test_loss), \"Acurácia: {}\".format(test_acc))\n",
    "main()"
   ]
  }
 ],
 "metadata": {
  "kernelspec": {
   "display_name": "Python 3",
   "language": "python",
   "name": "python3"
  },
  "language_info": {
   "codemirror_mode": {
    "name": "ipython",
    "version": 3
   },
   "file_extension": ".py",
   "mimetype": "text/x-python",
   "name": "python",
   "nbconvert_exporter": "python",
   "pygments_lexer": "ipython3",
   "version": "3.11.8"
  }
 },
 "nbformat": 4,
 "nbformat_minor": 2
}
